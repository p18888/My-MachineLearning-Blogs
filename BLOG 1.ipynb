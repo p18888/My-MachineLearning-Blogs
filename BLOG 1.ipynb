{
 "cells": [
  {
   "cell_type": "markdown",
   "metadata": {},
   "source": [
    "# INTRODUCTION"
   ]
  },
  {
   "cell_type": "markdown",
   "metadata": {},
   "source": [
    "In Today's world Data is every where and there is soo much data availble nowdays. Data can be collected from various sources like application, websites and books etc.\n",
    "Data can be any formate it may in Integers or Objects or may in Time formate. But machine can understand only numaric data so EDA process helps to handle this type of data and noicy data. It also helps to gain information form the data."
   ]
  },
  {
   "cell_type": "markdown",
   "metadata": {},
   "source": [
    "# EDA and Importance of EDA"
   ]
  },
  {
   "cell_type": "markdown",
   "metadata": {},
   "source": [
    "EDA stands for Exploratory Data Analysis. As per my experiance in any machine learning problems there is no such ruled based solutions. Its all about how we analyse and understand the data. EDA Process helps to anaylys and understand data clearly. And there is no short cuts to solve the problem and generating the model. EDA is one of most important step to solve Machine learning problems. \n",
    "\n",
    "EDA has several Processes:\n",
    "\n",
    "1. Handeling Missing Values\n",
    "2. Handeling Text data\n",
    "3. Handeling Categorical data.\n",
    "4. Handeling Outliers.\n",
    "5. Handeling Duplicate records.\n",
    "\n",
    "Before ongoing EDA steps firstly we need to understand the problem statement clearly."
   ]
  },
  {
   "cell_type": "markdown",
   "metadata": {},
   "source": [
    "# Understanding the Problem statement"
   ]
  },
  {
   "cell_type": "markdown",
   "metadata": {},
   "source": [
    "The first step of any machine learnig projects is to understand the problem statement. Here i have took one data set from online. Problem statement is like. We have all been in situation where we go to a doctor in emergency and find that the consultation fees are too high. Data have important details about a doctor and we need to predict the doctor’s consulting fees.\n",
    "\n",
    "The Dataset having 5961 records and each containing doctor's Qualification, Experience, Rating, Profile,Miscellaeous_Info,\n",
    "Place, and Fees."
   ]
  },
  {
   "cell_type": "markdown",
   "metadata": {},
   "source": [
    "### Importing Libraries"
   ]
  },
  {
   "cell_type": "code",
   "execution_count": 1,
   "metadata": {},
   "outputs": [],
   "source": [
    "import pandas as pd\n",
    "import numpy as np\n",
    "import matplotlib.pyplot as plt\n",
    "import seaborn as sns\n",
    "import datetime as dt\n",
    "%matplotlib inline\n",
    "import warnings\n",
    "warnings.simplefilter('ignore')"
   ]
  },
  {
   "cell_type": "markdown",
   "metadata": {},
   "source": [
    "### Loading Dataset"
   ]
  },
  {
   "cell_type": "code",
   "execution_count": 2,
   "metadata": {},
   "outputs": [],
   "source": [
    "df = pd.read_excel(\"/home/pavankumar/data_sci_dec/datasets/Doctor_fee_consultation/Final_Train.xlsx\")"
   ]
  },
  {
   "cell_type": "markdown",
   "metadata": {},
   "source": [
    "### Basic Data Exploration\n",
    "In this step we perform some basic steps to check what data tells us and to get information.\n",
    "\n",
    "Basic operations are: \n",
    "1. Head of data\n",
    "2. Shape of Data\n",
    "3. Information of the data\n",
    "4. Description of data\n",
    "5. Counts of null values and representing in graphical"
   ]
  },
  {
   "cell_type": "markdown",
   "metadata": {},
   "source": [
    "Lets Start analysing and exploring on the data..."
   ]
  },
  {
   "cell_type": "markdown",
   "metadata": {},
   "source": [
    "1.Head fucntion gives first 5 rows from the dataset by default. So we can see what type of data and columns are available"
   ]
  },
  {
   "cell_type": "code",
   "execution_count": 3,
   "metadata": {},
   "outputs": [
    {
     "data": {
      "text/html": [
       "<div>\n",
       "<style scoped>\n",
       "    .dataframe tbody tr th:only-of-type {\n",
       "        vertical-align: middle;\n",
       "    }\n",
       "\n",
       "    .dataframe tbody tr th {\n",
       "        vertical-align: top;\n",
       "    }\n",
       "\n",
       "    .dataframe thead th {\n",
       "        text-align: right;\n",
       "    }\n",
       "</style>\n",
       "<table border=\"1\" class=\"dataframe\">\n",
       "  <thead>\n",
       "    <tr style=\"text-align: right;\">\n",
       "      <th></th>\n",
       "      <th>Qualification</th>\n",
       "      <th>Experience</th>\n",
       "      <th>Rating</th>\n",
       "      <th>Place</th>\n",
       "      <th>Profile</th>\n",
       "      <th>Miscellaneous_Info</th>\n",
       "      <th>Fees</th>\n",
       "    </tr>\n",
       "  </thead>\n",
       "  <tbody>\n",
       "    <tr>\n",
       "      <th>0</th>\n",
       "      <td>BHMS, MD - Homeopathy</td>\n",
       "      <td>24 years experience</td>\n",
       "      <td>100%</td>\n",
       "      <td>Kakkanad, Ernakulam</td>\n",
       "      <td>Homeopath</td>\n",
       "      <td>100% 16 Feedback Kakkanad, Ernakulam</td>\n",
       "      <td>100</td>\n",
       "    </tr>\n",
       "    <tr>\n",
       "      <th>1</th>\n",
       "      <td>BAMS, MD - Ayurveda Medicine</td>\n",
       "      <td>12 years experience</td>\n",
       "      <td>98%</td>\n",
       "      <td>Whitefield, Bangalore</td>\n",
       "      <td>Ayurveda</td>\n",
       "      <td>98% 76 Feedback Whitefield, Bangalore</td>\n",
       "      <td>350</td>\n",
       "    </tr>\n",
       "    <tr>\n",
       "      <th>2</th>\n",
       "      <td>MBBS, MS - Otorhinolaryngology</td>\n",
       "      <td>9 years experience</td>\n",
       "      <td>NaN</td>\n",
       "      <td>Mathikere - BEL, Bangalore</td>\n",
       "      <td>ENT Specialist</td>\n",
       "      <td>NaN</td>\n",
       "      <td>300</td>\n",
       "    </tr>\n",
       "    <tr>\n",
       "      <th>3</th>\n",
       "      <td>BSc - Zoology, BAMS</td>\n",
       "      <td>12 years experience</td>\n",
       "      <td>NaN</td>\n",
       "      <td>Bannerghatta Road, Bangalore</td>\n",
       "      <td>Ayurveda</td>\n",
       "      <td>Bannerghatta Road, Bangalore ₹250 Available on...</td>\n",
       "      <td>250</td>\n",
       "    </tr>\n",
       "    <tr>\n",
       "      <th>4</th>\n",
       "      <td>BAMS</td>\n",
       "      <td>20 years experience</td>\n",
       "      <td>100%</td>\n",
       "      <td>Keelkattalai, Chennai</td>\n",
       "      <td>Ayurveda</td>\n",
       "      <td>100% 4 Feedback Keelkattalai, Chennai</td>\n",
       "      <td>250</td>\n",
       "    </tr>\n",
       "  </tbody>\n",
       "</table>\n",
       "</div>"
      ],
      "text/plain": [
       "                    Qualification           Experience Rating  \\\n",
       "0           BHMS, MD - Homeopathy  24 years experience   100%   \n",
       "1    BAMS, MD - Ayurveda Medicine  12 years experience    98%   \n",
       "2  MBBS, MS - Otorhinolaryngology   9 years experience    NaN   \n",
       "3             BSc - Zoology, BAMS  12 years experience    NaN   \n",
       "4                            BAMS  20 years experience   100%   \n",
       "\n",
       "                          Place         Profile  \\\n",
       "0           Kakkanad, Ernakulam       Homeopath   \n",
       "1         Whitefield, Bangalore        Ayurveda   \n",
       "2    Mathikere - BEL, Bangalore  ENT Specialist   \n",
       "3  Bannerghatta Road, Bangalore        Ayurveda   \n",
       "4         Keelkattalai, Chennai        Ayurveda   \n",
       "\n",
       "                                  Miscellaneous_Info  Fees  \n",
       "0               100% 16 Feedback Kakkanad, Ernakulam   100  \n",
       "1              98% 76 Feedback Whitefield, Bangalore   350  \n",
       "2                                                NaN   300  \n",
       "3  Bannerghatta Road, Bangalore ₹250 Available on...   250  \n",
       "4              100% 4 Feedback Keelkattalai, Chennai   250  "
      ]
     },
     "execution_count": 3,
     "metadata": {},
     "output_type": "execute_result"
    }
   ],
   "source": [
    "df.head()"
   ]
  },
  {
   "cell_type": "markdown",
   "metadata": {},
   "source": [
    "2.Shape of Data is nothing but it gives length and breadth of data i.e number of rows and columns"
   ]
  },
  {
   "cell_type": "code",
   "execution_count": 4,
   "metadata": {},
   "outputs": [
    {
     "data": {
      "text/plain": [
       "(5961, 7)"
      ]
     },
     "execution_count": 4,
     "metadata": {},
     "output_type": "execute_result"
    }
   ],
   "source": [
    "df.shape"
   ]
  },
  {
   "cell_type": "markdown",
   "metadata": {},
   "source": [
    "3.info() tells us standard information obout the data like column names with count of non null values and type of column"
   ]
  },
  {
   "cell_type": "code",
   "execution_count": 5,
   "metadata": {},
   "outputs": [
    {
     "name": "stdout",
     "output_type": "stream",
     "text": [
      "<class 'pandas.core.frame.DataFrame'>\n",
      "RangeIndex: 5961 entries, 0 to 5960\n",
      "Data columns (total 7 columns):\n",
      " #   Column              Non-Null Count  Dtype \n",
      "---  ------              --------------  ----- \n",
      " 0   Qualification       5961 non-null   object\n",
      " 1   Experience          5961 non-null   object\n",
      " 2   Rating              2659 non-null   object\n",
      " 3   Place               5936 non-null   object\n",
      " 4   Profile             5961 non-null   object\n",
      " 5   Miscellaneous_Info  3341 non-null   object\n",
      " 6   Fees                5961 non-null   int64 \n",
      "dtypes: int64(1), object(6)\n",
      "memory usage: 326.1+ KB\n"
     ]
    }
   ],
   "source": [
    "df.info()"
   ]
  },
  {
   "cell_type": "markdown",
   "metadata": {},
   "source": [
    "4.Describe fucntion shows the statistical information of numerical data. And it helps to see how data is spread max value, minimum value and different percentiles."
   ]
  },
  {
   "cell_type": "code",
   "execution_count": 6,
   "metadata": {},
   "outputs": [
    {
     "data": {
      "text/html": [
       "<div>\n",
       "<style scoped>\n",
       "    .dataframe tbody tr th:only-of-type {\n",
       "        vertical-align: middle;\n",
       "    }\n",
       "\n",
       "    .dataframe tbody tr th {\n",
       "        vertical-align: top;\n",
       "    }\n",
       "\n",
       "    .dataframe thead th {\n",
       "        text-align: right;\n",
       "    }\n",
       "</style>\n",
       "<table border=\"1\" class=\"dataframe\">\n",
       "  <thead>\n",
       "    <tr style=\"text-align: right;\">\n",
       "      <th></th>\n",
       "      <th>Fees</th>\n",
       "    </tr>\n",
       "  </thead>\n",
       "  <tbody>\n",
       "    <tr>\n",
       "      <th>count</th>\n",
       "      <td>5961.000000</td>\n",
       "    </tr>\n",
       "    <tr>\n",
       "      <th>mean</th>\n",
       "      <td>307.944640</td>\n",
       "    </tr>\n",
       "    <tr>\n",
       "      <th>std</th>\n",
       "      <td>190.920373</td>\n",
       "    </tr>\n",
       "    <tr>\n",
       "      <th>min</th>\n",
       "      <td>5.000000</td>\n",
       "    </tr>\n",
       "    <tr>\n",
       "      <th>25%</th>\n",
       "      <td>150.000000</td>\n",
       "    </tr>\n",
       "    <tr>\n",
       "      <th>50%</th>\n",
       "      <td>300.000000</td>\n",
       "    </tr>\n",
       "    <tr>\n",
       "      <th>75%</th>\n",
       "      <td>500.000000</td>\n",
       "    </tr>\n",
       "    <tr>\n",
       "      <th>max</th>\n",
       "      <td>950.000000</td>\n",
       "    </tr>\n",
       "  </tbody>\n",
       "</table>\n",
       "</div>"
      ],
      "text/plain": [
       "              Fees\n",
       "count  5961.000000\n",
       "mean    307.944640\n",
       "std     190.920373\n",
       "min       5.000000\n",
       "25%     150.000000\n",
       "50%     300.000000\n",
       "75%     500.000000\n",
       "max     950.000000"
      ]
     },
     "execution_count": 6,
     "metadata": {},
     "output_type": "execute_result"
    }
   ],
   "source": [
    "df.describe()"
   ]
  },
  {
   "cell_type": "markdown",
   "metadata": {},
   "source": [
    "5.isnull() function helps to see the null values in the dataset. Heatmap give much clear visual understand where null values are present."
   ]
  },
  {
   "cell_type": "code",
   "execution_count": 7,
   "metadata": {},
   "outputs": [
    {
     "data": {
      "text/plain": [
       "Qualification            0\n",
       "Experience               0\n",
       "Rating                3302\n",
       "Place                   25\n",
       "Profile                  0\n",
       "Miscellaneous_Info    2620\n",
       "Fees                     0\n",
       "dtype: int64"
      ]
     },
     "execution_count": 7,
     "metadata": {},
     "output_type": "execute_result"
    }
   ],
   "source": [
    "df.isnull().sum()"
   ]
  },
  {
   "cell_type": "code",
   "execution_count": 8,
   "metadata": {},
   "outputs": [
    {
     "data": {
      "text/plain": [
       "<matplotlib.axes._subplots.AxesSubplot at 0x7f7eb30d7280>"
      ]
     },
     "execution_count": 8,
     "metadata": {},
     "output_type": "execute_result"
    },
    {
     "data": {
      "image/png": "[encoded data removed]",
      "text/plain": [
       "<Figure size 432x288 with 2 Axes>"
      ]
     },
     "metadata": {
      "needs_background": "light"
     },
     "output_type": "display_data"
    }
   ],
   "source": [
    "sns.heatmap(df.isnull())"
   ]
  },
  {
   "cell_type": "markdown",
   "metadata": {},
   "source": [
    "Heatmap is showing how much number of null values present in each column. From above we can see that Rating and Misscellaneous_Info having large number of null values. Places column having only 25 null values.\n",
    "\n",
    "Let's drop these columns which having null values more than 60% and preoceed further analysing."
   ]
  },
  {
   "cell_type": "code",
   "execution_count": 9,
   "metadata": {},
   "outputs": [],
   "source": [
    "df.drop(['Rating','Miscellaneous_Info'],axis=1, inplace=True)"
   ]
  },
  {
   "cell_type": "markdown",
   "metadata": {},
   "source": [
    "### Handeling Missing value"
   ]
  },
  {
   "cell_type": "markdown",
   "metadata": {},
   "source": [
    "Imputing and handeling missing values are one of important step in any machine learning problems.\n",
    "\n",
    "It can be done by using several methods depends how we are analysing the data.\n",
    "Null values can be filled by mean meadian and mode of the data and by using external libraries like KNNImputer.\n",
    "\n",
    "Mean will you use when data in numerics and continues form.\n",
    "Mode is in used in categorical data\n",
    "\n",
    "KNNImputer i tooks N numbers of points and mean that points and fill the null values row by row."
   ]
  },
  {
   "cell_type": "code",
   "execution_count": 10,
   "metadata": {},
   "outputs": [
    {
     "name": "stdout",
     "output_type": "stream",
     "text": [
      "Number of Null value in Place : 25\n",
      "Length of this table :  24\n"
     ]
    }
   ],
   "source": [
    "print('Number of Null value in Place :', df['Place'].isnull().sum())\n",
    "df[(df['Profile']=='Dermatologists') & (df['Experience']=='0 years experience') & (pd.isnull(df['Place']))]\n",
    "print('Length of this table : ',len(df[(df['Profile']=='Dermatologists') & (df['Experience']=='0 years experience') & (pd.isnull(df['Place']))]))"
   ]
  },
  {
   "cell_type": "markdown",
   "metadata": {},
   "source": [
    "Above table shows that 99 % of null values are present in Place column when Qualification is 'Get inspired by remarkable stories of people l...' and Experiance is  '0 years experiance'.\n",
    "\n",
    "Rather loosing the data or dropping this null values. Imputing some values at places of missing values.\n",
    "\n",
    "Before imputing the null values let we handle Duplicated values"
   ]
  },
  {
   "cell_type": "markdown",
   "metadata": {},
   "source": [
    "### Handeling Duplicated values"
   ]
  },
  {
   "cell_type": "code",
   "execution_count": 11,
   "metadata": {},
   "outputs": [
    {
     "name": "stdout",
     "output_type": "stream",
     "text": [
      "Number of duplicates are :  65\n"
     ]
    },
    {
     "data": {
      "text/html": [
       "<div>\n",
       "<style scoped>\n",
       "    .dataframe tbody tr th:only-of-type {\n",
       "        vertical-align: middle;\n",
       "    }\n",
       "\n",
       "    .dataframe tbody tr th {\n",
       "        vertical-align: top;\n",
       "    }\n",
       "\n",
       "    .dataframe thead th {\n",
       "        text-align: right;\n",
       "    }\n",
       "</style>\n",
       "<table border=\"1\" class=\"dataframe\">\n",
       "  <thead>\n",
       "    <tr style=\"text-align: right;\">\n",
       "      <th></th>\n",
       "      <th>Qualification</th>\n",
       "      <th>Experience</th>\n",
       "      <th>Place</th>\n",
       "      <th>Profile</th>\n",
       "      <th>Fees</th>\n",
       "    </tr>\n",
       "  </thead>\n",
       "  <tbody>\n",
       "    <tr>\n",
       "      <th>474</th>\n",
       "      <td>BHMS</td>\n",
       "      <td>3 years experience</td>\n",
       "      <td>Malleswaram, Bangalore</td>\n",
       "      <td>Homeopath</td>\n",
       "      <td>100</td>\n",
       "    </tr>\n",
       "    <tr>\n",
       "      <th>502</th>\n",
       "      <td>Get inspired by remarkable stories of people l...</td>\n",
       "      <td>0 years experience</td>\n",
       "      <td>NaN</td>\n",
       "      <td>Dermatologists</td>\n",
       "      <td>100</td>\n",
       "    </tr>\n",
       "    <tr>\n",
       "      <th>599</th>\n",
       "      <td>Get inspired by remarkable stories of people l...</td>\n",
       "      <td>0 years experience</td>\n",
       "      <td>NaN</td>\n",
       "      <td>Dermatologists</td>\n",
       "      <td>100</td>\n",
       "    </tr>\n",
       "    <tr>\n",
       "      <th>605</th>\n",
       "      <td>Get inspired by remarkable stories of people l...</td>\n",
       "      <td>0 years experience</td>\n",
       "      <td>NaN</td>\n",
       "      <td>Dermatologists</td>\n",
       "      <td>100</td>\n",
       "    </tr>\n",
       "    <tr>\n",
       "      <th>700</th>\n",
       "      <td>BDS</td>\n",
       "      <td>12 years experience</td>\n",
       "      <td>Thiruvanmiyur, Chennai</td>\n",
       "      <td>Dentist</td>\n",
       "      <td>200</td>\n",
       "    </tr>\n",
       "    <tr>\n",
       "      <th>...</th>\n",
       "      <td>...</td>\n",
       "      <td>...</td>\n",
       "      <td>...</td>\n",
       "      <td>...</td>\n",
       "      <td>...</td>\n",
       "    </tr>\n",
       "    <tr>\n",
       "      <th>5723</th>\n",
       "      <td>Get inspired by remarkable stories of people l...</td>\n",
       "      <td>0 years experience</td>\n",
       "      <td>NaN</td>\n",
       "      <td>Dermatologists</td>\n",
       "      <td>100</td>\n",
       "    </tr>\n",
       "    <tr>\n",
       "      <th>5747</th>\n",
       "      <td>BDS</td>\n",
       "      <td>11 years experience</td>\n",
       "      <td>Ganapathy, Coimbatore</td>\n",
       "      <td>Dentist</td>\n",
       "      <td>100</td>\n",
       "    </tr>\n",
       "    <tr>\n",
       "      <th>5765</th>\n",
       "      <td>BDS</td>\n",
       "      <td>2 years experience</td>\n",
       "      <td>Guduvanchery, Chennai</td>\n",
       "      <td>Dentist</td>\n",
       "      <td>100</td>\n",
       "    </tr>\n",
       "    <tr>\n",
       "      <th>5883</th>\n",
       "      <td>BDS</td>\n",
       "      <td>10 years experience</td>\n",
       "      <td>Katwaria Sarai, Delhi</td>\n",
       "      <td>Dentist</td>\n",
       "      <td>200</td>\n",
       "    </tr>\n",
       "    <tr>\n",
       "      <th>5943</th>\n",
       "      <td>BDS</td>\n",
       "      <td>3 years experience</td>\n",
       "      <td>Koramangala, Bangalore</td>\n",
       "      <td>Dentist</td>\n",
       "      <td>300</td>\n",
       "    </tr>\n",
       "  </tbody>\n",
       "</table>\n",
       "<p>65 rows × 5 columns</p>\n",
       "</div>"
      ],
      "text/plain": [
       "                                          Qualification           Experience  \\\n",
       "474                                                BHMS   3 years experience   \n",
       "502   Get inspired by remarkable stories of people l...   0 years experience   \n",
       "599   Get inspired by remarkable stories of people l...   0 years experience   \n",
       "605   Get inspired by remarkable stories of people l...   0 years experience   \n",
       "700                                                 BDS  12 years experience   \n",
       "...                                                 ...                  ...   \n",
       "5723  Get inspired by remarkable stories of people l...   0 years experience   \n",
       "5747                                                BDS  11 years experience   \n",
       "5765                                                BDS   2 years experience   \n",
       "5883                                                BDS  10 years experience   \n",
       "5943                                                BDS   3 years experience   \n",
       "\n",
       "                       Place         Profile  Fees  \n",
       "474   Malleswaram, Bangalore       Homeopath   100  \n",
       "502                      NaN  Dermatologists   100  \n",
       "599                      NaN  Dermatologists   100  \n",
       "605                      NaN  Dermatologists   100  \n",
       "700   Thiruvanmiyur, Chennai         Dentist   200  \n",
       "...                      ...             ...   ...  \n",
       "5723                     NaN  Dermatologists   100  \n",
       "5747   Ganapathy, Coimbatore         Dentist   100  \n",
       "5765   Guduvanchery, Chennai         Dentist   100  \n",
       "5883   Katwaria Sarai, Delhi         Dentist   200  \n",
       "5943  Koramangala, Bangalore         Dentist   300  \n",
       "\n",
       "[65 rows x 5 columns]"
      ]
     },
     "execution_count": 11,
     "metadata": {},
     "output_type": "execute_result"
    }
   ],
   "source": [
    "duplicated=df.duplicated()\n",
    "print('Number of duplicates are : ',duplicated.sum())\n",
    "df[duplicated]"
   ]
  },
  {
   "cell_type": "markdown",
   "metadata": {},
   "source": [
    "Out of 5961 rows having 65 rows are duplicated. We'll drop duplicated rows so that data we can get only distinct records. "
   ]
  },
  {
   "cell_type": "code",
   "execution_count": 12,
   "metadata": {},
   "outputs": [],
   "source": [
    "df.drop_duplicates(inplace=True)"
   ]
  },
  {
   "cell_type": "markdown",
   "metadata": {},
   "source": [
    "Let's see dupliated rows are removed or not"
   ]
  },
  {
   "cell_type": "code",
   "execution_count": 13,
   "metadata": {},
   "outputs": [
    {
     "name": "stdout",
     "output_type": "stream",
     "text": [
      "Number of duplicated rows are :  0\n"
     ]
    }
   ],
   "source": [
    "print('Number of duplicated rows are : ',df.duplicated().sum())"
   ]
  },
  {
   "cell_type": "markdown",
   "metadata": {},
   "source": [
    "Let's see after dropping duplicates it is affecting on null values or not."
   ]
  },
  {
   "cell_type": "code",
   "execution_count": 14,
   "metadata": {},
   "outputs": [
    {
     "data": {
      "text/plain": [
       "2"
      ]
     },
     "execution_count": 14,
     "metadata": {},
     "output_type": "execute_result"
    }
   ],
   "source": [
    "df['Place'].isnull().sum()"
   ]
  },
  {
   "cell_type": "markdown",
   "metadata": {},
   "source": [
    "It means most of the null values are dropped during dropping duplicates.\n",
    "\n",
    "Filling null values with  some other value."
   ]
  },
  {
   "cell_type": "code",
   "execution_count": 15,
   "metadata": {},
   "outputs": [],
   "source": [
    "df.fillna('OTHER',axis=0,inplace=True)"
   ]
  },
  {
   "cell_type": "markdown",
   "metadata": {},
   "source": [
    "### Handeling Object Columns"
   ]
  },
  {
   "cell_type": "code",
   "execution_count": 16,
   "metadata": {},
   "outputs": [
    {
     "data": {
      "text/plain": [
       "Index(['Qualification', 'Experience', 'Place', 'Profile'], dtype='object')"
      ]
     },
     "execution_count": 16,
     "metadata": {},
     "output_type": "execute_result"
    }
   ],
   "source": [
    "df.select_dtypes('object').columns # These are the object columns to handle"
   ]
  },
  {
   "cell_type": "markdown",
   "metadata": {},
   "source": [
    "Experiance column is in Object type like('3 years experience') only we need number data soo we can split and add integer value in Experiance column"
   ]
  },
  {
   "cell_type": "code",
   "execution_count": 17,
   "metadata": {},
   "outputs": [
    {
     "data": {
      "text/plain": [
       "0       24\n",
       "1       12\n",
       "2        9\n",
       "3       12\n",
       "4       20\n",
       "        ..\n",
       "5956    19\n",
       "5957    33\n",
       "5958    41\n",
       "5959    15\n",
       "5960    17\n",
       "Name: Experience, Length: 5896, dtype: int64"
      ]
     },
     "execution_count": 17,
     "metadata": {},
     "output_type": "execute_result"
    }
   ],
   "source": [
    "for i in df['Experience'].index:\n",
    "    df['Experience'][i]=df['Experience'][i].split(' ')[0]\n",
    "df['Experience']=df['Experience'].astype('int')\n",
    "df['Experience']"
   ]
  },
  {
   "cell_type": "markdown",
   "metadata": {},
   "source": [
    "As we can see Qualification and Places having multiple Qualification and multiple place in some of rows.\n",
    "Let's split and handle these two columns"
   ]
  },
  {
   "cell_type": "code",
   "execution_count": 18,
   "metadata": {},
   "outputs": [
    {
     "name": "stdout",
     "output_type": "stream",
     "text": [
      "\n",
      "\n",
      "Maximum Title in a Cell :  3\n"
     ]
    }
   ],
   "source": [
    "maxim = 1\n",
    "for i in df['Place'] :\n",
    "    try:\n",
    "        if len(i.split(',')) > maxim:\n",
    "             maxim = len(i.split(','))\n",
    "    except:\n",
    "        pass\n",
    "print(\"\\n\\nMaximum Title in a Cell : \", maxim)  "
   ]
  },
  {
   "cell_type": "code",
   "execution_count": 19,
   "metadata": {},
   "outputs": [
    {
     "name": "stdout",
     "output_type": "stream",
     "text": [
      "\n",
      "\n",
      "Maximum Title in a Cell :  10\n"
     ]
    }
   ],
   "source": [
    "maxim = 1\n",
    "for i in df['Qualification'] :\n",
    "    try:\n",
    "        if len(i.split(',')) > maxim:\n",
    "             maxim = len(i.split(','))\n",
    "    except:\n",
    "        pass\n",
    "print(\"\\n\\nMaximum Title in a Cell : \", maxim)  "
   ]
  },
  {
   "cell_type": "code",
   "execution_count": 20,
   "metadata": {},
   "outputs": [],
   "source": [
    "q1=[]\n",
    "q2=[]\n",
    "q3=[]\n",
    "q4=[]\n",
    "q5=[]\n",
    "q6=[]\n",
    "q7=[]\n",
    "q8=[]\n",
    "q9=[]\n",
    "q10=[]\n",
    "\n",
    "for i in df['Qualification'] :\n",
    "    try:\n",
    "        q1.append(i.split(',')[0])\n",
    "    except:\n",
    "        q1.append('NONE')\n",
    "    try:\n",
    "        q2.append(i.split(',')[1])\n",
    "    except:\n",
    "        q2.append('NONE')\n",
    "    try:\n",
    "        q3.append(i.split(',')[2])\n",
    "    except:\n",
    "        q3.append('NONE')\n",
    "    try:\n",
    "        q4.append(i.split(',')[3])\n",
    "    except:\n",
    "        q4.append('NONE')\n",
    "    try:\n",
    "        q5.append(i.split(',')[4])\n",
    "    except:\n",
    "        q5.append('NONE')\n",
    "    try:\n",
    "        q6.append(i.split(',')[5])\n",
    "    except:\n",
    "        q6.append('NONE')\n",
    "    try:\n",
    "        q7.append(i.split(',')[6])\n",
    "    except:\n",
    "        q7.append('NONE')\n",
    "    try:\n",
    "        q8.append(i.split(',')[7])\n",
    "    except:\n",
    "        q8.append('NONE')\n",
    "    try:\n",
    "        q9.append(i.split(',')[8])\n",
    "    except:\n",
    "        q9.append('NONE')\n",
    "    try:\n",
    "        q10.append(i.split(',')[9])\n",
    "    except:\n",
    "        q10.append('NONE')\n",
    "df['Qualification1']=q1\n",
    "df['Qualification2']=q2\n",
    "df['Qualification3']=q3\n",
    "df['Qualification4']=q4\n",
    "df['Qualification5']=q5\n",
    "df['Qualification6']=q6\n",
    "df['Qualification7']=q7\n",
    "df['Qualification8']=q8\n",
    "df['Qualification9']=q9\n",
    "df['Qualification10']=q10\n",
    "df.drop('Qualification',axis=1,inplace=True)"
   ]
  },
  {
   "cell_type": "code",
   "execution_count": 21,
   "metadata": {},
   "outputs": [],
   "source": [
    "pl1=[]\n",
    "pl2=[]\n",
    "pl3=[]\n",
    "for i in df['Place'] :\n",
    "    try:\n",
    "        pl1.append(i.split(',')[0])\n",
    "    except:\n",
    "        pl1.append('NONE')\n",
    "    try:\n",
    "        pl2.append(i.split(',')[1])\n",
    "    except:\n",
    "        pl2.append('NONE')\n",
    "    try:\n",
    "        pl3.append(i.split(',')[2])\n",
    "    except:\n",
    "        pl3.append('NONE')\n",
    "df['Place1']=pl1\n",
    "df['Place2']=pl2\n",
    "df['Place3']=pl3\n",
    "df.drop('Place',axis=1,inplace=True)"
   ]
  },
  {
   "cell_type": "markdown",
   "metadata": {},
   "source": [
    "### Lable Encoding"
   ]
  },
  {
   "cell_type": "code",
   "execution_count": 22,
   "metadata": {},
   "outputs": [],
   "source": [
    "from sklearn.preprocessing import LabelEncoder\n",
    "le=LabelEncoder()"
   ]
  },
  {
   "cell_type": "code",
   "execution_count": 23,
   "metadata": {},
   "outputs": [
    {
     "data": {
      "text/html": [
       "<div>\n",
       "<style scoped>\n",
       "    .dataframe tbody tr th:only-of-type {\n",
       "        vertical-align: middle;\n",
       "    }\n",
       "\n",
       "    .dataframe tbody tr th {\n",
       "        vertical-align: top;\n",
       "    }\n",
       "\n",
       "    .dataframe thead th {\n",
       "        text-align: right;\n",
       "    }\n",
       "</style>\n",
       "<table border=\"1\" class=\"dataframe\">\n",
       "  <thead>\n",
       "    <tr style=\"text-align: right;\">\n",
       "      <th></th>\n",
       "      <th>Experience</th>\n",
       "      <th>Profile</th>\n",
       "      <th>Fees</th>\n",
       "      <th>Qualification1</th>\n",
       "      <th>Qualification2</th>\n",
       "      <th>Qualification3</th>\n",
       "      <th>Qualification4</th>\n",
       "      <th>Qualification5</th>\n",
       "      <th>Qualification6</th>\n",
       "      <th>Qualification7</th>\n",
       "      <th>Qualification8</th>\n",
       "      <th>Qualification9</th>\n",
       "      <th>Qualification10</th>\n",
       "      <th>Place1</th>\n",
       "      <th>Place2</th>\n",
       "      <th>Place3</th>\n",
       "    </tr>\n",
       "  </thead>\n",
       "  <tbody>\n",
       "    <tr>\n",
       "      <th>0</th>\n",
       "      <td>24</td>\n",
       "      <td>5</td>\n",
       "      <td>100</td>\n",
       "      <td>8</td>\n",
       "      <td>252</td>\n",
       "      <td>405</td>\n",
       "      <td>209</td>\n",
       "      <td>95</td>\n",
       "      <td>31</td>\n",
       "      <td>12</td>\n",
       "      <td>6</td>\n",
       "      <td>4</td>\n",
       "      <td>1</td>\n",
       "      <td>296</td>\n",
       "      <td>4</td>\n",
       "      <td>1</td>\n",
       "    </tr>\n",
       "    <tr>\n",
       "      <th>1</th>\n",
       "      <td>12</td>\n",
       "      <td>0</td>\n",
       "      <td>350</td>\n",
       "      <td>5</td>\n",
       "      <td>241</td>\n",
       "      <td>405</td>\n",
       "      <td>209</td>\n",
       "      <td>95</td>\n",
       "      <td>31</td>\n",
       "      <td>12</td>\n",
       "      <td>6</td>\n",
       "      <td>4</td>\n",
       "      <td>1</td>\n",
       "      <td>856</td>\n",
       "      <td>0</td>\n",
       "      <td>1</td>\n",
       "    </tr>\n",
       "    <tr>\n",
       "      <th>2</th>\n",
       "      <td>9</td>\n",
       "      <td>3</td>\n",
       "      <td>300</td>\n",
       "      <td>79</td>\n",
       "      <td>334</td>\n",
       "      <td>405</td>\n",
       "      <td>209</td>\n",
       "      <td>95</td>\n",
       "      <td>31</td>\n",
       "      <td>12</td>\n",
       "      <td>6</td>\n",
       "      <td>4</td>\n",
       "      <td>1</td>\n",
       "      <td>452</td>\n",
       "      <td>0</td>\n",
       "      <td>1</td>\n",
       "    </tr>\n",
       "    <tr>\n",
       "      <th>3</th>\n",
       "      <td>12</td>\n",
       "      <td>0</td>\n",
       "      <td>250</td>\n",
       "      <td>12</td>\n",
       "      <td>7</td>\n",
       "      <td>405</td>\n",
       "      <td>209</td>\n",
       "      <td>95</td>\n",
       "      <td>31</td>\n",
       "      <td>12</td>\n",
       "      <td>6</td>\n",
       "      <td>4</td>\n",
       "      <td>1</td>\n",
       "      <td>68</td>\n",
       "      <td>0</td>\n",
       "      <td>1</td>\n",
       "    </tr>\n",
       "    <tr>\n",
       "      <th>4</th>\n",
       "      <td>20</td>\n",
       "      <td>0</td>\n",
       "      <td>250</td>\n",
       "      <td>5</td>\n",
       "      <td>425</td>\n",
       "      <td>405</td>\n",
       "      <td>209</td>\n",
       "      <td>95</td>\n",
       "      <td>31</td>\n",
       "      <td>12</td>\n",
       "      <td>6</td>\n",
       "      <td>4</td>\n",
       "      <td>1</td>\n",
       "      <td>335</td>\n",
       "      <td>1</td>\n",
       "      <td>1</td>\n",
       "    </tr>\n",
       "  </tbody>\n",
       "</table>\n",
       "</div>"
      ],
      "text/plain": [
       "   Experience  Profile  Fees  Qualification1  Qualification2  Qualification3  \\\n",
       "0          24        5   100               8             252             405   \n",
       "1          12        0   350               5             241             405   \n",
       "2           9        3   300              79             334             405   \n",
       "3          12        0   250              12               7             405   \n",
       "4          20        0   250               5             425             405   \n",
       "\n",
       "   Qualification4  Qualification5  Qualification6  Qualification7  \\\n",
       "0             209              95              31              12   \n",
       "1             209              95              31              12   \n",
       "2             209              95              31              12   \n",
       "3             209              95              31              12   \n",
       "4             209              95              31              12   \n",
       "\n",
       "   Qualification8  Qualification9  Qualification10  Place1  Place2  Place3  \n",
       "0               6               4                1     296       4       1  \n",
       "1               6               4                1     856       0       1  \n",
       "2               6               4                1     452       0       1  \n",
       "3               6               4                1      68       0       1  \n",
       "4               6               4                1     335       1       1  "
      ]
     },
     "execution_count": 23,
     "metadata": {},
     "output_type": "execute_result"
    }
   ],
   "source": [
    "for i in df.select_dtypes('object').columns:\n",
    "    df[i]=le.fit_transform(df[i])\n",
    "df.head()"
   ]
  },
  {
   "cell_type": "markdown",
   "metadata": {},
   "source": [
    "### Handeling Skewness"
   ]
  },
  {
   "cell_type": "markdown",
   "metadata": {},
   "source": [
    "Any continuess data it should be normally distributed for better prediction. When most of the point lied in some range and some less points are lied in another range at this situation skewness occure it may be right skewed or left skewed.\n",
    "\n",
    "Right Skew is  present in this formate = Mode > Median > Mean\n",
    "\n",
    "Left Skew is  present in this formate = Mode < Median < Mean\n",
    "\n",
    "Skeness can be removed by various methods like\n",
    "\n",
    "1. Log Transformation\n",
    "2. Square Root Transformation\n",
    "3. Power Transformation\n",
    "\n",
    "Note : Skewness is acceptable when it close to 0.5"
   ]
  },
  {
   "cell_type": "code",
   "execution_count": 24,
   "metadata": {},
   "outputs": [
    {
     "data": {
      "image/png": "[encoded data removed]",
      "text/plain": [
       "<Figure size 432x288 with 1 Axes>"
      ]
     },
     "metadata": {
      "needs_background": "light"
     },
     "output_type": "display_data"
    },
    {
     "name": "stdout",
     "output_type": "stream",
     "text": [
      "skewness is :  0.9983274046961402\n"
     ]
    }
   ],
   "source": [
    "sns.distplot(df['Experience'])\n",
    "plt.show()\n",
    "print('skewness is : ',df['Experience'].skew())"
   ]
  },
  {
   "cell_type": "code",
   "execution_count": 25,
   "metadata": {},
   "outputs": [
    {
     "data": {
      "image/png": "[encoded data removed]",
      "text/plain": [
       "<Figure size 432x288 with 1 Axes>"
      ]
     },
     "metadata": {
      "needs_background": "light"
     },
     "output_type": "display_data"
    },
    {
     "name": "stdout",
     "output_type": "stream",
     "text": [
      "Afte applying Power Transformation then skewness is :  -0.0008536299496319324\n"
     ]
    }
   ],
   "source": [
    "from sklearn.preprocessing import PowerTransformer\n",
    "pt=PowerTransformer()\n",
    "df['Experience']=pt.fit_transform(pd.DataFrame(df['Experience']))\n",
    "sns.distplot(df['Experience'])\n",
    "plt.show()\n",
    "print('Afte applying Power Transformation then skewness is : ',df['Experience'].skew())"
   ]
  },
  {
   "cell_type": "markdown",
   "metadata": {},
   "source": [
    "###  Outliers"
   ]
  },
  {
   "cell_type": "markdown",
   "metadata": {},
   "source": [
    "Outliers are those points who has extintly heigh values from the rest of the values.\n",
    "\n",
    "There are different types of outliers like \n",
    "1. Intensional outlier : Intensionaly user has enter extream value\n",
    "2. Typo Error : Wrongly enter while typing\n",
    "3. Legit outliers : Some values are really extream compare to rest of points e.g Salary of COA"
   ]
  },
  {
   "cell_type": "code",
   "execution_count": 26,
   "metadata": {},
   "outputs": [
    {
     "data": {
      "text/plain": [
       "<matplotlib.axes._subplots.AxesSubplot at 0x7f7eb30cdc40>"
      ]
     },
     "execution_count": 26,
     "metadata": {},
     "output_type": "execute_result"
    },
    {
     "data": {
      "image/png": "[encoded data removed]",
      "text/plain": [
       "<Figure size 432x288 with 1 Axes>"
      ]
     },
     "metadata": {
      "needs_background": "light"
     },
     "output_type": "display_data"
    }
   ],
   "source": [
    "sns.boxplot(df['Experience'])"
   ]
  },
  {
   "cell_type": "markdown",
   "metadata": {},
   "source": [
    "### Normalizing and Scaling "
   ]
  },
  {
   "cell_type": "markdown",
   "metadata": {},
   "source": [
    "Scalling is used when data columns different different ranage like suppose one column represents salary which contain large digit and another having age which have only 2-3 digit. There may be a chances of biasing between these two columns while model generation. To handel this Scaling or normalizing is much more important."
   ]
  },
  {
   "cell_type": "code",
   "execution_count": 27,
   "metadata": {},
   "outputs": [],
   "source": [
    "from sklearn.preprocessing import StandardScaler\n",
    "ss=StandardScaler()\n",
    "df_new=ss.fit_transform(df)"
   ]
  },
  {
   "cell_type": "code",
   "execution_count": 28,
   "metadata": {},
   "outputs": [
    {
     "data": {
      "text/html": [
       "<div>\n",
       "<style scoped>\n",
       "    .dataframe tbody tr th:only-of-type {\n",
       "        vertical-align: middle;\n",
       "    }\n",
       "\n",
       "    .dataframe tbody tr th {\n",
       "        vertical-align: top;\n",
       "    }\n",
       "\n",
       "    .dataframe thead th {\n",
       "        text-align: right;\n",
       "    }\n",
       "</style>\n",
       "<table border=\"1\" class=\"dataframe\">\n",
       "  <thead>\n",
       "    <tr style=\"text-align: right;\">\n",
       "      <th></th>\n",
       "      <th>Experience</th>\n",
       "      <th>Profile</th>\n",
       "      <th>Fees</th>\n",
       "      <th>Qualification1</th>\n",
       "      <th>Qualification2</th>\n",
       "      <th>Qualification3</th>\n",
       "      <th>Qualification4</th>\n",
       "      <th>Qualification5</th>\n",
       "      <th>Qualification6</th>\n",
       "      <th>Qualification7</th>\n",
       "      <th>Qualification8</th>\n",
       "      <th>Qualification9</th>\n",
       "      <th>Qualification10</th>\n",
       "      <th>Place1</th>\n",
       "      <th>Place2</th>\n",
       "      <th>Place3</th>\n",
       "    </tr>\n",
       "  </thead>\n",
       "  <tbody>\n",
       "    <tr>\n",
       "      <th>0</th>\n",
       "      <td>0.736701</td>\n",
       "      <td>1.537842</td>\n",
       "      <td>-1.095544</td>\n",
       "      <td>-1.017214</td>\n",
       "      <td>-0.262797</td>\n",
       "      <td>0.435934</td>\n",
       "      <td>0.219496</td>\n",
       "      <td>0.120041</td>\n",
       "      <td>0.065795</td>\n",
       "      <td>0.039875</td>\n",
       "      <td>0.028681</td>\n",
       "      <td>0.023784</td>\n",
       "      <td>0.013024</td>\n",
       "      <td>-0.451102</td>\n",
       "      <td>0.398745</td>\n",
       "      <td>0.013024</td>\n",
       "    </tr>\n",
       "    <tr>\n",
       "      <th>1</th>\n",
       "      <td>-0.337096</td>\n",
       "      <td>-1.474689</td>\n",
       "      <td>0.213275</td>\n",
       "      <td>-1.093324</td>\n",
       "      <td>-0.346484</td>\n",
       "      <td>0.435934</td>\n",
       "      <td>0.219496</td>\n",
       "      <td>0.120041</td>\n",
       "      <td>0.065795</td>\n",
       "      <td>0.039875</td>\n",
       "      <td>0.028681</td>\n",
       "      <td>0.023784</td>\n",
       "      <td>0.013024</td>\n",
       "      <td>1.739565</td>\n",
       "      <td>-1.322969</td>\n",
       "      <td>0.013024</td>\n",
       "    </tr>\n",
       "    <tr>\n",
       "      <th>2</th>\n",
       "      <td>-0.709616</td>\n",
       "      <td>0.332830</td>\n",
       "      <td>-0.048488</td>\n",
       "      <td>0.784056</td>\n",
       "      <td>0.361050</td>\n",
       "      <td>0.435934</td>\n",
       "      <td>0.219496</td>\n",
       "      <td>0.120041</td>\n",
       "      <td>0.065795</td>\n",
       "      <td>0.039875</td>\n",
       "      <td>0.028681</td>\n",
       "      <td>0.023784</td>\n",
       "      <td>0.013024</td>\n",
       "      <td>0.159155</td>\n",
       "      <td>-1.322969</td>\n",
       "      <td>0.013024</td>\n",
       "    </tr>\n",
       "    <tr>\n",
       "      <th>3</th>\n",
       "      <td>-0.337096</td>\n",
       "      <td>-1.474689</td>\n",
       "      <td>-0.310252</td>\n",
       "      <td>-0.915734</td>\n",
       "      <td>-2.126730</td>\n",
       "      <td>0.435934</td>\n",
       "      <td>0.219496</td>\n",
       "      <td>0.120041</td>\n",
       "      <td>0.065795</td>\n",
       "      <td>0.039875</td>\n",
       "      <td>0.028681</td>\n",
       "      <td>0.023784</td>\n",
       "      <td>0.013024</td>\n",
       "      <td>-1.343016</td>\n",
       "      <td>-1.322969</td>\n",
       "      <td>0.013024</td>\n",
       "    </tr>\n",
       "    <tr>\n",
       "      <th>4</th>\n",
       "      <td>0.428503</td>\n",
       "      <td>-1.474689</td>\n",
       "      <td>-0.310252</td>\n",
       "      <td>-1.093324</td>\n",
       "      <td>1.053367</td>\n",
       "      <td>0.435934</td>\n",
       "      <td>0.219496</td>\n",
       "      <td>0.120041</td>\n",
       "      <td>0.065795</td>\n",
       "      <td>0.039875</td>\n",
       "      <td>0.028681</td>\n",
       "      <td>0.023784</td>\n",
       "      <td>0.013024</td>\n",
       "      <td>-0.298538</td>\n",
       "      <td>-0.892540</td>\n",
       "      <td>0.013024</td>\n",
       "    </tr>\n",
       "  </tbody>\n",
       "</table>\n",
       "</div>"
      ],
      "text/plain": [
       "   Experience   Profile      Fees  Qualification1  Qualification2  \\\n",
       "0    0.736701  1.537842 -1.095544       -1.017214       -0.262797   \n",
       "1   -0.337096 -1.474689  0.213275       -1.093324       -0.346484   \n",
       "2   -0.709616  0.332830 -0.048488        0.784056        0.361050   \n",
       "3   -0.337096 -1.474689 -0.310252       -0.915734       -2.126730   \n",
       "4    0.428503 -1.474689 -0.310252       -1.093324        1.053367   \n",
       "\n",
       "   Qualification3  Qualification4  Qualification5  Qualification6  \\\n",
       "0        0.435934        0.219496        0.120041        0.065795   \n",
       "1        0.435934        0.219496        0.120041        0.065795   \n",
       "2        0.435934        0.219496        0.120041        0.065795   \n",
       "3        0.435934        0.219496        0.120041        0.065795   \n",
       "4        0.435934        0.219496        0.120041        0.065795   \n",
       "\n",
       "   Qualification7  Qualification8  Qualification9  Qualification10    Place1  \\\n",
       "0        0.039875        0.028681        0.023784         0.013024 -0.451102   \n",
       "1        0.039875        0.028681        0.023784         0.013024  1.739565   \n",
       "2        0.039875        0.028681        0.023784         0.013024  0.159155   \n",
       "3        0.039875        0.028681        0.023784         0.013024 -1.343016   \n",
       "4        0.039875        0.028681        0.023784         0.013024 -0.298538   \n",
       "\n",
       "     Place2    Place3  \n",
       "0  0.398745  0.013024  \n",
       "1 -1.322969  0.013024  \n",
       "2 -1.322969  0.013024  \n",
       "3 -1.322969  0.013024  \n",
       "4 -0.892540  0.013024  "
      ]
     },
     "execution_count": 28,
     "metadata": {},
     "output_type": "execute_result"
    }
   ],
   "source": [
    "df=pd.DataFrame(df_new,columns=df.columns)\n",
    "df.head()"
   ]
  },
  {
   "cell_type": "markdown",
   "metadata": {},
   "source": [
    "### Correlation"
   ]
  },
  {
   "cell_type": "markdown",
   "metadata": {},
   "source": [
    "Correlation shows that each column how much correlating with rest of the columns.\n",
    "There are two type of correlation positive correlation and negative correlation"
   ]
  },
  {
   "cell_type": "code",
   "execution_count": 32,
   "metadata": {},
   "outputs": [
    {
     "data": {
      "text/plain": [
       "<matplotlib.axes._subplots.AxesSubplot at 0x7f7eaf015be0>"
      ]
     },
     "execution_count": 32,
     "metadata": {},
     "output_type": "execute_result"
    },
    {
     "data": {
      "image/png": "[encoded data removed]",
      "text/plain": [
       "<Figure size 1296x576 with 2 Axes>"
      ]
     },
     "metadata": {
      "needs_background": "light"
     },
     "output_type": "display_data"
    }
   ],
   "source": [
    "plt.figure(figsize=(18,8))\n",
    "sns.heatmap(df.corr(),annot=True,fmt='0.2%',linewidths=0.2)"
   ]
  },
  {
   "cell_type": "markdown",
   "metadata": {},
   "source": [
    "### Conclusion"
   ]
  },
  {
   "cell_type": "markdown",
   "metadata": {},
   "source": [
    "Data has cleaned by using some EDA processes. Now data has converted noicy object data to clean numeric data. So we can apply machine algorithms to predict doctor consultant fees."
   ]
  },
  {
   "cell_type": "code",
   "execution_count": null,
   "metadata": {},
   "outputs": [],
   "source": []
  }
 ],
 "metadata": {
  "kernelspec": {
   "display_name": "Python 3",
   "language": "python",
   "name": "python3"
  },
  "language_info": {
   "codemirror_mode": {
    "name": "ipython",
    "version": 3
   },
   "file_extension": ".py",
   "mimetype": "text/x-python",
   "name": "python",
   "nbconvert_exporter": "python",
   "pygments_lexer": "ipython3",
   "version": "3.8.3"
  }
 },
 "nbformat": 4,
 "nbformat_minor": 4
}
